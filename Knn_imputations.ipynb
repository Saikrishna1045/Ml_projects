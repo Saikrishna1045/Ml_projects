{
 "cells": [
  {
   "cell_type": "markdown",
   "id": "9354fc0c",
   "metadata": {},
   "source": [
    "### KNN k closest neighbors to a given missing data point and then imputing the missing value based on the average of the values of the \"k\" neighbors."
   ]
  },
  {
   "cell_type": "code",
   "execution_count": 2,
   "id": "241d0e49",
   "metadata": {},
   "outputs": [],
   "source": [
    "# Non parametric Approach\n",
    "# Complex & Non-normal Disributions\n",
    "# Non-linear Dataset\n",
    "# small % Missing Data\n",
    "# High Dimensional Data"
   ]
  },
  {
   "cell_type": "code",
   "execution_count": 5,
   "id": "bba8b0ef",
   "metadata": {},
   "outputs": [],
   "source": [
    "import numpy as np\n",
    "# sample dataset\n",
    "df = np.array([[1,2, np.nan], [3, np.nan, 7], [np.nan, 6,8]])\n",
    "\n"
   ]
  },
  {
   "cell_type": "code",
   "execution_count": 6,
   "id": "dd326e4d",
   "metadata": {},
   "outputs": [
    {
     "data": {
      "text/plain": [
       "array([[ 1.,  2., nan],\n",
       "       [ 3., nan,  7.],\n",
       "       [nan,  6.,  8.]])"
      ]
     },
     "execution_count": 6,
     "metadata": {},
     "output_type": "execute_result"
    }
   ],
   "source": [
    "df"
   ]
  },
  {
   "cell_type": "code",
   "execution_count": 8,
   "id": "04d75902",
   "metadata": {},
   "outputs": [],
   "source": [
    "from fancyimpute import KNN\n",
    "imputer = KNN(k=2)"
   ]
  },
  {
   "cell_type": "code",
   "execution_count": 9,
   "id": "d00a1d22",
   "metadata": {},
   "outputs": [
    {
     "name": "stdout",
     "output_type": "stream",
     "text": [
      "Imputing row 1/3 with 1 missing, elapsed time: 0.008\n"
     ]
    }
   ],
   "source": [
    "imputer = imputer.fit_transform(df)"
   ]
  },
  {
   "cell_type": "code",
   "execution_count": 10,
   "id": "e8b65310",
   "metadata": {},
   "outputs": [
    {
     "data": {
      "text/plain": [
       "array([[1.        , 2.        , 7.2       ],\n",
       "       [3.        , 5.2       , 7.        ],\n",
       "       [2.88235294, 6.        , 8.        ]])"
      ]
     },
     "execution_count": 10,
     "metadata": {},
     "output_type": "execute_result"
    }
   ],
   "source": [
    "imputer"
   ]
  },
  {
   "cell_type": "markdown",
   "id": "3218644a",
   "metadata": {},
   "source": []
  }
 ],
 "metadata": {
  "kernelspec": {
   "display_name": "Python 3",
   "language": "python",
   "name": "python3"
  },
  "language_info": {
   "codemirror_mode": {
    "name": "ipython",
    "version": 3
   },
   "file_extension": ".py",
   "mimetype": "text/x-python",
   "name": "python",
   "nbconvert_exporter": "python",
   "pygments_lexer": "ipython3",
   "version": "3.12.6"
  }
 },
 "nbformat": 4,
 "nbformat_minor": 5
}
