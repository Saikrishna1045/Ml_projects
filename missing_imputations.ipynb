{
 "cells": [
  {
   "cell_type": "code",
   "execution_count": 14,
   "id": "a87ecafd",
   "metadata": {},
   "outputs": [],
   "source": [
    "import pandas as pd\n",
    "import numpy as np"
   ]
  },
  {
   "cell_type": "code",
   "execution_count": 15,
   "id": "9064f184",
   "metadata": {},
   "outputs": [],
   "source": [
    "df = np.array([[1,2, np.nan], [3, np.nan, 7], [np.nan, 6,8]])"
   ]
  },
  {
   "cell_type": "code",
   "execution_count": 16,
   "id": "1dbdb0be",
   "metadata": {},
   "outputs": [
    {
     "data": {
      "text/plain": [
       "array([[ 1.,  2., nan],\n",
       "       [ 3., nan,  7.],\n",
       "       [nan,  6.,  8.]])"
      ]
     },
     "execution_count": 16,
     "metadata": {},
     "output_type": "execute_result"
    }
   ],
   "source": [
    "df"
   ]
  },
  {
   "cell_type": "code",
   "execution_count": 6,
   "id": "2749ad75",
   "metadata": {},
   "outputs": [
    {
     "name": "stdout",
     "output_type": "stream",
     "text": [
      "Collecting fancyimpute\n",
      "  Downloading fancyimpute-0.7.0.tar.gz (25 kB)\n",
      "  Installing build dependencies: started\n",
      "  Installing build dependencies: finished with status 'done'\n",
      "  Getting requirements to build wheel: started\n",
      "  Getting requirements to build wheel: finished with status 'done'\n",
      "  Preparing metadata (pyproject.toml): started\n",
      "  Preparing metadata (pyproject.toml): finished with status 'done'\n",
      "Collecting knnimpute>=0.1.0 (from fancyimpute)\n",
      "  Downloading knnimpute-0.1.0.tar.gz (8.3 kB)\n",
      "  Installing build dependencies: started\n",
      "  Installing build dependencies: finished with status 'done'\n",
      "  Getting requirements to build wheel: started\n",
      "  Getting requirements to build wheel: finished with status 'done'\n",
      "  Preparing metadata (pyproject.toml): started\n",
      "  Preparing metadata (pyproject.toml): finished with status 'done'\n",
      "Requirement already satisfied: scikit-learn>=0.24.2 in c:\\users\\admin\\appdata\\local\\programs\\python\\python312\\lib\\site-packages (from fancyimpute) (1.5.2)\n",
      "Collecting cvxpy (from fancyimpute)\n",
      "  Downloading cvxpy-1.7.0-cp312-cp312-win_amd64.whl.metadata (9.6 kB)\n",
      "Collecting cvxopt (from fancyimpute)\n",
      "  Downloading cvxopt-1.3.2-cp312-cp312-win_amd64.whl.metadata (1.4 kB)\n",
      "Collecting pytest (from fancyimpute)\n",
      "  Downloading pytest-8.4.1-py3-none-any.whl.metadata (7.7 kB)\n",
      "Collecting nose (from fancyimpute)\n",
      "  Downloading nose-1.3.7-py3-none-any.whl.metadata (1.7 kB)\n",
      "Requirement already satisfied: six in c:\\users\\admin\\appdata\\local\\programs\\python\\python312\\lib\\site-packages (from knnimpute>=0.1.0->fancyimpute) (1.16.0)\n",
      "Requirement already satisfied: numpy>=1.10 in c:\\users\\admin\\appdata\\local\\programs\\python\\python312\\lib\\site-packages (from knnimpute>=0.1.0->fancyimpute) (1.26.4)\n",
      "Requirement already satisfied: scipy>=1.6.0 in c:\\users\\admin\\appdata\\local\\programs\\python\\python312\\lib\\site-packages (from scikit-learn>=0.24.2->fancyimpute) (1.14.1)\n",
      "Requirement already satisfied: joblib>=1.2.0 in c:\\users\\admin\\appdata\\local\\programs\\python\\python312\\lib\\site-packages (from scikit-learn>=0.24.2->fancyimpute) (1.3.2)\n",
      "Requirement already satisfied: threadpoolctl>=3.1.0 in c:\\users\\admin\\appdata\\local\\programs\\python\\python312\\lib\\site-packages (from scikit-learn>=0.24.2->fancyimpute) (3.3.0)\n",
      "Collecting osqp>=0.6.2 (from cvxpy->fancyimpute)\n",
      "  Downloading osqp-1.0.4-cp312-cp312-win_amd64.whl.metadata (2.1 kB)\n",
      "Collecting clarabel>=0.5.0 (from cvxpy->fancyimpute)\n",
      "  Using cached clarabel-0.11.1-cp39-abi3-win_amd64.whl.metadata (4.9 kB)\n",
      "Collecting scs>=3.2.4.post1 (from cvxpy->fancyimpute)\n",
      "  Downloading scs-3.2.7.post2-cp312-cp312-win_amd64.whl.metadata (2.1 kB)\n",
      "Requirement already satisfied: colorama>=0.4 in c:\\users\\admin\\appdata\\local\\programs\\python\\python312\\lib\\site-packages (from pytest->fancyimpute) (0.4.6)\n",
      "Collecting iniconfig>=1 (from pytest->fancyimpute)\n",
      "  Downloading iniconfig-2.1.0-py3-none-any.whl.metadata (2.7 kB)\n",
      "Requirement already satisfied: packaging>=20 in c:\\users\\admin\\appdata\\local\\programs\\python\\python312\\lib\\site-packages (from pytest->fancyimpute) (23.2)\n",
      "Collecting pluggy<2,>=1.5 (from pytest->fancyimpute)\n",
      "  Downloading pluggy-1.6.0-py3-none-any.whl.metadata (4.8 kB)\n",
      "Requirement already satisfied: pygments>=2.7.2 in c:\\users\\admin\\appdata\\local\\programs\\python\\python312\\lib\\site-packages (from pytest->fancyimpute) (2.18.0)\n",
      "Requirement already satisfied: cffi in c:\\users\\admin\\appdata\\local\\programs\\python\\python312\\lib\\site-packages (from clarabel>=0.5.0->cvxpy->fancyimpute) (1.16.0)\n",
      "Requirement already satisfied: jinja2 in c:\\users\\admin\\appdata\\local\\programs\\python\\python312\\lib\\site-packages (from osqp>=0.6.2->cvxpy->fancyimpute) (3.1.3)\n",
      "Requirement already satisfied: setuptools in c:\\users\\admin\\appdata\\roaming\\python\\python312\\site-packages (from osqp>=0.6.2->cvxpy->fancyimpute) (69.1.1)\n",
      "Requirement already satisfied: pycparser in c:\\users\\admin\\appdata\\local\\programs\\python\\python312\\lib\\site-packages (from cffi->clarabel>=0.5.0->cvxpy->fancyimpute) (2.21)\n",
      "Requirement already satisfied: MarkupSafe>=2.0 in c:\\users\\admin\\appdata\\local\\programs\\python\\python312\\lib\\site-packages (from jinja2->osqp>=0.6.2->cvxpy->fancyimpute) (2.1.5)\n",
      "Downloading cvxopt-1.3.2-cp312-cp312-win_amd64.whl (12.8 MB)\n",
      "   ---------------------------------------- 0.0/12.8 MB ? eta -:--:--\n",
      "   ---------------------------------------- 0.0/12.8 MB ? eta -:--:--\n",
      "   ---------------------------------------- 0.0/12.8 MB ? eta -:--:--\n",
      "   ---------------------------------------- 0.0/12.8 MB ? eta -:--:--\n",
      "    --------------------------------------- 0.3/12.8 MB ? eta -:--:--\n",
      "    --------------------------------------- 0.3/12.8 MB ? eta -:--:--\n",
      "   - -------------------------------------- 0.5/12.8 MB 621.2 kB/s eta 0:00:20\n",
      "   - -------------------------------------- 0.5/12.8 MB 621.2 kB/s eta 0:00:20\n",
      "   -- ------------------------------------- 0.8/12.8 MB 599.2 kB/s eta 0:00:21\n",
      "   --- ------------------------------------ 1.0/12.8 MB 709.1 kB/s eta 0:00:17\n",
      "   ---- ----------------------------------- 1.3/12.8 MB 771.6 kB/s eta 0:00:15\n",
      "   ---- ----------------------------------- 1.6/12.8 MB 806.6 kB/s eta 0:00:14\n",
      "   ---- ----------------------------------- 1.6/12.8 MB 806.6 kB/s eta 0:00:14\n",
      "   ----- ---------------------------------- 1.8/12.8 MB 831.8 kB/s eta 0:00:14\n",
      "   ------ --------------------------------- 2.1/12.8 MB 844.8 kB/s eta 0:00:13\n",
      "   ------ --------------------------------- 2.1/12.8 MB 844.8 kB/s eta 0:00:13\n",
      "   ------ --------------------------------- 2.1/12.8 MB 844.8 kB/s eta 0:00:13\n",
      "   ------ --------------------------------- 2.1/12.8 MB 844.8 kB/s eta 0:00:13\n",
      "   ------ --------------------------------- 2.1/12.8 MB 844.8 kB/s eta 0:00:13\n",
      "   ------ --------------------------------- 2.1/12.8 MB 844.8 kB/s eta 0:00:13\n",
      "   ------ --------------------------------- 2.1/12.8 MB 844.8 kB/s eta 0:00:13\n",
      "   ------- -------------------------------- 2.4/12.8 MB 588.6 kB/s eta 0:00:18\n",
      "   ------- -------------------------------- 2.4/12.8 MB 588.6 kB/s eta 0:00:18\n",
      "   -------- ------------------------------- 2.6/12.8 MB 578.5 kB/s eta 0:00:18\n",
      "   -------- ------------------------------- 2.9/12.8 MB 625.9 kB/s eta 0:00:16\n",
      "   -------- ------------------------------- 2.9/12.8 MB 625.9 kB/s eta 0:00:16\n",
      "   -------- ------------------------------- 2.9/12.8 MB 625.9 kB/s eta 0:00:16\n",
      "   --------- ------------------------------ 3.1/12.8 MB 605.0 kB/s eta 0:00:17\n",
      "   --------- ------------------------------ 3.1/12.8 MB 605.0 kB/s eta 0:00:17\n",
      "   ---------- ----------------------------- 3.4/12.8 MB 597.4 kB/s eta 0:00:16\n",
      "   ---------- ----------------------------- 3.4/12.8 MB 597.4 kB/s eta 0:00:16\n",
      "   ----------- ---------------------------- 3.7/12.8 MB 602.5 kB/s eta 0:00:16\n",
      "   ------------ --------------------------- 3.9/12.8 MB 611.7 kB/s eta 0:00:15\n",
      "   ------------ --------------------------- 3.9/12.8 MB 611.7 kB/s eta 0:00:15\n",
      "   ------------ --------------------------- 3.9/12.8 MB 611.7 kB/s eta 0:00:15\n",
      "   ------------- -------------------------- 4.2/12.8 MB 602.1 kB/s eta 0:00:15\n",
      "   ------------- -------------------------- 4.2/12.8 MB 602.1 kB/s eta 0:00:15\n",
      "   ------------- -------------------------- 4.2/12.8 MB 602.1 kB/s eta 0:00:15\n",
      "   ------------- -------------------------- 4.5/12.8 MB 595.2 kB/s eta 0:00:15\n",
      "   -------------- ------------------------- 4.7/12.8 MB 604.3 kB/s eta 0:00:14\n",
      "   --------------- ------------------------ 5.0/12.8 MB 618.8 kB/s eta 0:00:13\n",
      "   --------------- ------------------------ 5.0/12.8 MB 618.8 kB/s eta 0:00:13\n",
      "   ---------------- ----------------------- 5.2/12.8 MB 627.5 kB/s eta 0:00:13\n",
      "   ----------------- ---------------------- 5.5/12.8 MB 635.5 kB/s eta 0:00:12\n",
      "   ----------------- ---------------------- 5.8/12.8 MB 648.9 kB/s eta 0:00:11\n",
      "   ----------------- ---------------------- 5.8/12.8 MB 648.9 kB/s eta 0:00:11\n",
      "   ------------------ --------------------- 6.0/12.8 MB 661.4 kB/s eta 0:00:11\n",
      "   ------------------- -------------------- 6.3/12.8 MB 673.4 kB/s eta 0:00:10\n",
      "   -------------------- ------------------- 6.6/12.8 MB 687.1 kB/s eta 0:00:10\n",
      "   --------------------- ------------------ 6.8/12.8 MB 699.0 kB/s eta 0:00:09\n",
      "   ---------------------- ----------------- 7.1/12.8 MB 700.2 kB/s eta 0:00:09\n",
      "   ---------------------- ----------------- 7.3/12.8 MB 723.6 kB/s eta 0:00:08\n",
      "   ----------------------- ---------------- 7.6/12.8 MB 734.0 kB/s eta 0:00:08\n",
      "   ------------------------ --------------- 7.9/12.8 MB 736.1 kB/s eta 0:00:07\n",
      "   ------------------------- -------------- 8.1/12.8 MB 753.4 kB/s eta 0:00:07\n",
      "   -------------------------- ------------- 8.4/12.8 MB 758.1 kB/s eta 0:00:06\n",
      "   -------------------------- ------------- 8.7/12.8 MB 771.4 kB/s eta 0:00:06\n",
      "   --------------------------- ------------ 8.9/12.8 MB 782.0 kB/s eta 0:00:06\n",
      "   ---------------------------- ----------- 9.2/12.8 MB 789.0 kB/s eta 0:00:05\n",
      "   ----------------------------- ---------- 9.4/12.8 MB 795.7 kB/s eta 0:00:05\n",
      "   ------------------------------ --------- 9.7/12.8 MB 801.1 kB/s eta 0:00:04\n",
      "   ------------------------------ --------- 9.7/12.8 MB 801.1 kB/s eta 0:00:04\n",
      "   ------------------------------- -------- 10.2/12.8 MB 812.1 kB/s eta 0:00:04\n",
      "   ------------------------------- -------- 10.2/12.8 MB 812.1 kB/s eta 0:00:04\n",
      "   ------------------------------- -------- 10.2/12.8 MB 812.1 kB/s eta 0:00:04\n",
      "   ------------------------------- -------- 10.2/12.8 MB 812.1 kB/s eta 0:00:04\n",
      "   -------------------------------- ------- 10.5/12.8 MB 780.8 kB/s eta 0:00:04\n",
      "   -------------------------------- ------- 10.5/12.8 MB 780.8 kB/s eta 0:00:04\n",
      "   --------------------------------- ------ 10.7/12.8 MB 786.7 kB/s eta 0:00:03\n",
      "   ---------------------------------- ----- 11.0/12.8 MB 783.4 kB/s eta 0:00:03\n",
      "   ---------------------------------- ----- 11.0/12.8 MB 783.4 kB/s eta 0:00:03\n",
      "   ----------------------------------- ---- 11.3/12.8 MB 783.8 kB/s eta 0:00:03\n",
      "   ----------------------------------- ---- 11.5/12.8 MB 790.1 kB/s eta 0:00:02\n",
      "   ----------------------------------- ---- 11.5/12.8 MB 790.1 kB/s eta 0:00:02\n",
      "   ------------------------------------ --- 11.8/12.8 MB 780.3 kB/s eta 0:00:02\n",
      "   ------------------------------------- -- 12.1/12.8 MB 786.4 kB/s eta 0:00:02\n",
      "   ------------------------------------- -- 12.1/12.8 MB 786.4 kB/s eta 0:00:02\n",
      "   -------------------------------------- - 12.3/12.8 MB 785.9 kB/s eta 0:00:01\n",
      "   ---------------------------------------  12.6/12.8 MB 791.7 kB/s eta 0:00:01\n",
      "   ---------------------------------------- 12.8/12.8 MB 798.9 kB/s eta 0:00:00\n",
      "Downloading cvxpy-1.7.0-cp312-cp312-win_amd64.whl (1.1 MB)\n",
      "   ---------------------------------------- 0.0/1.1 MB ? eta -:--:--\n",
      "   --------- ------------------------------ 0.3/1.1 MB ? eta -:--:--\n",
      "   ------------------ --------------------- 0.5/1.1 MB 1.4 MB/s eta 0:00:01\n",
      "   ------------------ --------------------- 0.5/1.1 MB 1.4 MB/s eta 0:00:01\n",
      "   ---------------------------- ----------- 0.8/1.1 MB 1.2 MB/s eta 0:00:01\n",
      "   ---------------------------------------- 1.1/1.1 MB 1.3 MB/s eta 0:00:00\n",
      "Downloading nose-1.3.7-py3-none-any.whl (154 kB)\n",
      "Downloading pytest-8.4.1-py3-none-any.whl (365 kB)\n",
      "Using cached clarabel-0.11.1-cp39-abi3-win_amd64.whl (887 kB)\n",
      "Downloading iniconfig-2.1.0-py3-none-any.whl (6.0 kB)\n",
      "Downloading osqp-1.0.4-cp312-cp312-win_amd64.whl (303 kB)\n",
      "Downloading pluggy-1.6.0-py3-none-any.whl (20 kB)\n",
      "Downloading scs-3.2.7.post2-cp312-cp312-win_amd64.whl (7.4 MB)\n",
      "   ---------------------------------------- 0.0/7.4 MB ? eta -:--:--\n",
      "   - -------------------------------------- 0.3/7.4 MB ? eta -:--:--\n",
      "   - -------------------------------------- 0.3/7.4 MB ? eta -:--:--\n",
      "   -- ------------------------------------- 0.5/7.4 MB 1.2 MB/s eta 0:00:06\n",
      "   -- ------------------------------------- 0.5/7.4 MB 1.2 MB/s eta 0:00:06\n",
      "   ----- ---------------------------------- 1.0/7.4 MB 1.0 MB/s eta 0:00:07\n",
      "   ------- -------------------------------- 1.3/7.4 MB 1.0 MB/s eta 0:00:06\n",
      "   ------- -------------------------------- 1.3/7.4 MB 1.0 MB/s eta 0:00:06\n",
      "   ------- -------------------------------- 1.3/7.4 MB 1.0 MB/s eta 0:00:06\n",
      "   -------- ------------------------------- 1.6/7.4 MB 883.2 kB/s eta 0:00:07\n",
      "   ----------- ---------------------------- 2.1/7.4 MB 995.1 kB/s eta 0:00:06\n",
      "   ----------- ---------------------------- 2.1/7.4 MB 995.1 kB/s eta 0:00:06\n",
      "   ----------- ---------------------------- 2.1/7.4 MB 995.1 kB/s eta 0:00:06\n",
      "   ----------- ---------------------------- 2.1/7.4 MB 995.1 kB/s eta 0:00:06\n",
      "   ------------ --------------------------- 2.4/7.4 MB 828.6 kB/s eta 0:00:07\n",
      "   -------------- ------------------------- 2.6/7.4 MB 848.4 kB/s eta 0:00:06\n",
      "   --------------- ------------------------ 2.9/7.4 MB 873.8 kB/s eta 0:00:06\n",
      "   ---------------- ----------------------- 3.1/7.4 MB 874.6 kB/s eta 0:00:05\n",
      "   ------------------ --------------------- 3.4/7.4 MB 906.8 kB/s eta 0:00:05\n",
      "   ------------------ --------------------- 3.4/7.4 MB 906.8 kB/s eta 0:00:05\n",
      "   --------------------- ------------------ 3.9/7.4 MB 958.7 kB/s eta 0:00:04\n",
      "   ---------------------- ----------------- 4.2/7.4 MB 975.5 kB/s eta 0:00:04\n",
      "   ---------------------- ----------------- 4.2/7.4 MB 975.5 kB/s eta 0:00:04\n",
      "   ------------------------- -------------- 4.7/7.4 MB 1.0 MB/s eta 0:00:03\n",
      "   -------------------------- ------------- 5.0/7.4 MB 1.0 MB/s eta 0:00:03\n",
      "   ---------------------------- ----------- 5.2/7.4 MB 1.0 MB/s eta 0:00:03\n",
      "   ----------------------------- ---------- 5.5/7.4 MB 1.0 MB/s eta 0:00:02\n",
      "   ------------------------------- -------- 5.8/7.4 MB 1.0 MB/s eta 0:00:02\n",
      "   ------------------------------- -------- 5.8/7.4 MB 1.0 MB/s eta 0:00:02\n",
      "   -------------------------------- ------- 6.0/7.4 MB 1.0 MB/s eta 0:00:02\n",
      "   -------------------------------- ------- 6.0/7.4 MB 1.0 MB/s eta 0:00:02\n",
      "   --------------------------------- ------ 6.3/7.4 MB 999.7 kB/s eta 0:00:02\n",
      "   ----------------------------------- ---- 6.6/7.4 MB 1.0 MB/s eta 0:00:01\n",
      "   ------------------------------------ --- 6.8/7.4 MB 1.0 MB/s eta 0:00:01\n",
      "   -------------------------------------- - 7.1/7.4 MB 1.0 MB/s eta 0:00:01\n",
      "   -------------------------------------- - 7.1/7.4 MB 1.0 MB/s eta 0:00:01\n",
      "   ---------------------------------------- 7.4/7.4 MB 1.0 MB/s eta 0:00:00\n",
      "Building wheels for collected packages: fancyimpute, knnimpute\n",
      "  Building wheel for fancyimpute (pyproject.toml): started\n",
      "  Building wheel for fancyimpute (pyproject.toml): finished with status 'done'\n",
      "  Created wheel for fancyimpute: filename=fancyimpute-0.7.0-py3-none-any.whl size=29997 sha256=c14a74b6771d1c2cb807752ca79bc83d8af6a8a7c64c50b4858493ca9f972a5e\n",
      "  Stored in directory: c:\\users\\admin\\appdata\\local\\pip\\cache\\wheels\\df\\20\\91\\e4850b9a31cf660c1bc95515d3bcbc8010e869e5de6d5baf07\n",
      "  Building wheel for knnimpute (pyproject.toml): started\n",
      "  Building wheel for knnimpute (pyproject.toml): finished with status 'done'\n",
      "  Created wheel for knnimpute: filename=knnimpute-0.1.0-py3-none-any.whl size=11145 sha256=9b92570c947d0ecf85f022b14ffc2044365337ac16610419508ca65c8424445e\n",
      "  Stored in directory: c:\\users\\admin\\appdata\\local\\pip\\cache\\wheels\\89\\11\\61\\aa5a3167bfff49218cd043a73a83034b9eadd858b0059521be\n",
      "Successfully built fancyimpute knnimpute\n",
      "Installing collected packages: nose, pluggy, knnimpute, iniconfig, cvxopt, scs, pytest, osqp, clarabel, cvxpy, fancyimpute\n",
      "Successfully installed clarabel-0.11.1 cvxopt-1.3.2 cvxpy-1.7.0 fancyimpute-0.7.0 iniconfig-2.1.0 knnimpute-0.1.0 nose-1.3.7 osqp-1.0.4 pluggy-1.6.0 pytest-8.4.1 scs-3.2.7.post2\n"
     ]
    },
    {
     "name": "stderr",
     "output_type": "stream",
     "text": [
      "\n",
      "[notice] A new release of pip is available: 24.2 -> 25.1.1\n",
      "[notice] To update, run: python.exe -m pip install --upgrade pip\n"
     ]
    }
   ],
   "source": [
    "!pip install fancyimpute"
   ]
  },
  {
   "cell_type": "code",
   "execution_count": 17,
   "id": "640b5be5",
   "metadata": {},
   "outputs": [],
   "source": [
    "from fancyimpute import IterativeImputer as MICE"
   ]
  },
  {
   "cell_type": "code",
   "execution_count": 18,
   "id": "7b38d5d2",
   "metadata": {},
   "outputs": [],
   "source": [
    "mice_imputer = MICE()"
   ]
  },
  {
   "cell_type": "code",
   "execution_count": 19,
   "id": "2bd33f14",
   "metadata": {},
   "outputs": [],
   "source": [
    "x_imputed = mice_imputer.fit_transform(df)"
   ]
  },
  {
   "cell_type": "code",
   "execution_count": 20,
   "id": "9cc320ac",
   "metadata": {},
   "outputs": [
    {
     "data": {
      "text/plain": [
       "array([[1.        , 2.        , 5.89670921],\n",
       "       [3.        , 4.09825687, 7.        ],\n",
       "       [4.81281379, 6.        , 8.        ]])"
      ]
     },
     "execution_count": 20,
     "metadata": {},
     "output_type": "execute_result"
    }
   ],
   "source": [
    "x_imputed"
   ]
  },
  {
   "cell_type": "markdown",
   "id": "a05c9734",
   "metadata": {},
   "source": [
    "# Case 2  "
   ]
  },
  {
   "cell_type": "code",
   "execution_count": 21,
   "id": "f4b26112",
   "metadata": {},
   "outputs": [],
   "source": [
    "from sklearn.experimental import enable_iterative_imputer\n",
    "from sklearn.impute import IterativeImputer\n",
    "\n",
    "# sample data frame\n",
    "df = np.array([[1,2, np.nan], [3, np.nan, 7], [np.nan, 6,8]]) \n"
   ]
  },
  {
   "cell_type": "code",
   "execution_count": 22,
   "id": "7bba1ec7",
   "metadata": {},
   "outputs": [],
   "source": [
    "imputer = IterativeImputer(max_iter = 10, imputation_order = 'ascending')"
   ]
  },
  {
   "cell_type": "code",
   "execution_count": 23,
   "id": "b6000757",
   "metadata": {},
   "outputs": [],
   "source": [
    "x_imputed_new  = imputer.fit_transform(df)"
   ]
  },
  {
   "cell_type": "code",
   "execution_count": 24,
   "id": "c677e4c6",
   "metadata": {},
   "outputs": [
    {
     "data": {
      "text/plain": [
       "array([[1.        , 2.        , 5.89670921],\n",
       "       [3.        , 4.09825687, 7.        ],\n",
       "       [4.81281379, 6.        , 8.        ]])"
      ]
     },
     "execution_count": 24,
     "metadata": {},
     "output_type": "execute_result"
    }
   ],
   "source": [
    "x_imputed"
   ]
  },
  {
   "cell_type": "code",
   "execution_count": 25,
   "id": "04eedf90",
   "metadata": {},
   "outputs": [
    {
     "data": {
      "text/plain": [
       "array([[1.        , 2.        , 5.89670921],\n",
       "       [3.        , 4.09825687, 7.        ],\n",
       "       [4.81281379, 6.        , 8.        ]])"
      ]
     },
     "execution_count": 25,
     "metadata": {},
     "output_type": "execute_result"
    }
   ],
   "source": [
    "x_imputed_new"
   ]
  },
  {
   "cell_type": "code",
   "execution_count": null,
   "id": "43bd5eb3",
   "metadata": {},
   "outputs": [],
   "source": []
  }
 ],
 "metadata": {
  "kernelspec": {
   "display_name": "Python 3",
   "language": "python",
   "name": "python3"
  },
  "language_info": {
   "codemirror_mode": {
    "name": "ipython",
    "version": 3
   },
   "file_extension": ".py",
   "mimetype": "text/x-python",
   "name": "python",
   "nbconvert_exporter": "python",
   "pygments_lexer": "ipython3",
   "version": "3.12.6"
  }
 },
 "nbformat": 4,
 "nbformat_minor": 5
}
