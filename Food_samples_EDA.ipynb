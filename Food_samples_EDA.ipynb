{
 "cells": [
  {
   "cell_type": "markdown",
   "id": "20c63694",
   "metadata": {},
   "source": [
    "# E-Commerce Data Analysis"
   ]
  },
  {
   "cell_type": "markdown",
   "id": "438f87f2",
   "metadata": {},
   "source": [
    "Importing necessary libraries"
   ]
  },
  {
   "cell_type": "code",
   "execution_count": 1,
   "id": "fdd5489c",
   "metadata": {},
   "outputs": [],
   "source": [
    "import numpy as np\n",
    "import pandas as pd\n",
    "import matplotlib.pyplot as plt\n",
    "import seaborn as sns\n",
    "from datetime import datetime, timedelta"
   ]
  },
  {
   "cell_type": "markdown",
   "id": "214fb2a4",
   "metadata": {},
   "source": [
    "Reading the dataset"
   ]
  },
  {
   "cell_type": "code",
   "execution_count": 2,
   "id": "1d2f461e",
   "metadata": {},
   "outputs": [],
   "source": [
    "data = pd.read_csv(\"sample_food_items_dataset.csv\")"
   ]
  },
  {
   "cell_type": "code",
   "execution_count": 3,
   "id": "89897a69",
   "metadata": {},
   "outputs": [
    {
     "data": {
      "text/html": [
       "<div>\n",
       "<style scoped>\n",
       "    .dataframe tbody tr th:only-of-type {\n",
       "        vertical-align: middle;\n",
       "    }\n",
       "\n",
       "    .dataframe tbody tr th {\n",
       "        vertical-align: top;\n",
       "    }\n",
       "\n",
       "    .dataframe thead th {\n",
       "        text-align: right;\n",
       "    }\n",
       "</style>\n",
       "<table border=\"1\" class=\"dataframe\">\n",
       "  <thead>\n",
       "    <tr style=\"text-align: right;\">\n",
       "      <th></th>\n",
       "      <th>ItemID</th>\n",
       "      <th>ProductName</th>\n",
       "      <th>Category</th>\n",
       "      <th>Price</th>\n",
       "      <th>Brand</th>\n",
       "      <th>Supplier</th>\n",
       "      <th>QuantityInStock</th>\n",
       "      <th>ExpirationDate</th>\n",
       "    </tr>\n",
       "  </thead>\n",
       "  <tbody>\n",
       "    <tr>\n",
       "      <th>0</th>\n",
       "      <td>1</td>\n",
       "      <td>Apples</td>\n",
       "      <td>Dairy</td>\n",
       "      <td>12.39</td>\n",
       "      <td>BrandA</td>\n",
       "      <td>SupplierX</td>\n",
       "      <td>374.0</td>\n",
       "      <td>2024-09-07</td>\n",
       "    </tr>\n",
       "    <tr>\n",
       "      <th>1</th>\n",
       "      <td>2</td>\n",
       "      <td>Bread</td>\n",
       "      <td>Fruits</td>\n",
       "      <td>13.70</td>\n",
       "      <td>BrandD</td>\n",
       "      <td>SupplierX</td>\n",
       "      <td>22.0</td>\n",
       "      <td>2024-09-11</td>\n",
       "    </tr>\n",
       "    <tr>\n",
       "      <th>2</th>\n",
       "      <td>3</td>\n",
       "      <td>Cheese</td>\n",
       "      <td>Bakery</td>\n",
       "      <td>11.36</td>\n",
       "      <td>BrandA</td>\n",
       "      <td>SupplierX</td>\n",
       "      <td>460.0</td>\n",
       "      <td>2024-10-08</td>\n",
       "    </tr>\n",
       "    <tr>\n",
       "      <th>3</th>\n",
       "      <td>4</td>\n",
       "      <td>Cheese</td>\n",
       "      <td>Meat</td>\n",
       "      <td>NaN</td>\n",
       "      <td>BrandC</td>\n",
       "      <td>SupplierX</td>\n",
       "      <td>NaN</td>\n",
       "      <td>2024-01-22</td>\n",
       "    </tr>\n",
       "    <tr>\n",
       "      <th>4</th>\n",
       "      <td>5</td>\n",
       "      <td>Oranges</td>\n",
       "      <td>Meat</td>\n",
       "      <td>8.81</td>\n",
       "      <td>BrandB</td>\n",
       "      <td>SupplierZ</td>\n",
       "      <td>354.0</td>\n",
       "      <td>2024-08-17</td>\n",
       "    </tr>\n",
       "    <tr>\n",
       "      <th>...</th>\n",
       "      <td>...</td>\n",
       "      <td>...</td>\n",
       "      <td>...</td>\n",
       "      <td>...</td>\n",
       "      <td>...</td>\n",
       "      <td>...</td>\n",
       "      <td>...</td>\n",
       "      <td>...</td>\n",
       "    </tr>\n",
       "    <tr>\n",
       "      <th>95</th>\n",
       "      <td>96</td>\n",
       "      <td>Bread</td>\n",
       "      <td>Dairy</td>\n",
       "      <td>5.74</td>\n",
       "      <td>BrandA</td>\n",
       "      <td>SupplierY</td>\n",
       "      <td>159.0</td>\n",
       "      <td>2024-04-10</td>\n",
       "    </tr>\n",
       "    <tr>\n",
       "      <th>96</th>\n",
       "      <td>97</td>\n",
       "      <td>Milk</td>\n",
       "      <td>Fruits</td>\n",
       "      <td>17.81</td>\n",
       "      <td>BrandD</td>\n",
       "      <td>SupplierZ</td>\n",
       "      <td>81.0</td>\n",
       "      <td>2024-03-31</td>\n",
       "    </tr>\n",
       "    <tr>\n",
       "      <th>97</th>\n",
       "      <td>98</td>\n",
       "      <td>Eggs</td>\n",
       "      <td>Fruits</td>\n",
       "      <td>18.23</td>\n",
       "      <td>BrandC</td>\n",
       "      <td>SupplierY</td>\n",
       "      <td>35.0</td>\n",
       "      <td>2024-03-09</td>\n",
       "    </tr>\n",
       "    <tr>\n",
       "      <th>98</th>\n",
       "      <td>99</td>\n",
       "      <td>Butter</td>\n",
       "      <td>Meat</td>\n",
       "      <td>13.45</td>\n",
       "      <td>BrandB</td>\n",
       "      <td>SupplierZ</td>\n",
       "      <td>237.0</td>\n",
       "      <td>2024-04-15</td>\n",
       "    </tr>\n",
       "    <tr>\n",
       "      <th>99</th>\n",
       "      <td>100</td>\n",
       "      <td>Eggs</td>\n",
       "      <td>Fruits</td>\n",
       "      <td>7.51</td>\n",
       "      <td>BrandE</td>\n",
       "      <td>SupplierZ</td>\n",
       "      <td>243.0</td>\n",
       "      <td>2024-01-11</td>\n",
       "    </tr>\n",
       "  </tbody>\n",
       "</table>\n",
       "<p>100 rows × 8 columns</p>\n",
       "</div>"
      ],
      "text/plain": [
       "    ItemID ProductName Category  Price   Brand   Supplier  QuantityInStock  \\\n",
       "0        1      Apples    Dairy  12.39  BrandA  SupplierX            374.0   \n",
       "1        2       Bread   Fruits  13.70  BrandD  SupplierX             22.0   \n",
       "2        3      Cheese   Bakery  11.36  BrandA  SupplierX            460.0   \n",
       "3        4      Cheese     Meat    NaN  BrandC  SupplierX              NaN   \n",
       "4        5     Oranges     Meat   8.81  BrandB  SupplierZ            354.0   \n",
       "..     ...         ...      ...    ...     ...        ...              ...   \n",
       "95      96       Bread    Dairy   5.74  BrandA  SupplierY            159.0   \n",
       "96      97        Milk   Fruits  17.81  BrandD  SupplierZ             81.0   \n",
       "97      98        Eggs   Fruits  18.23  BrandC  SupplierY             35.0   \n",
       "98      99      Butter     Meat  13.45  BrandB  SupplierZ            237.0   \n",
       "99     100        Eggs   Fruits   7.51  BrandE  SupplierZ            243.0   \n",
       "\n",
       "   ExpirationDate  \n",
       "0      2024-09-07  \n",
       "1      2024-09-11  \n",
       "2      2024-10-08  \n",
       "3      2024-01-22  \n",
       "4      2024-08-17  \n",
       "..            ...  \n",
       "95     2024-04-10  \n",
       "96     2024-03-31  \n",
       "97     2024-03-09  \n",
       "98     2024-04-15  \n",
       "99     2024-01-11  \n",
       "\n",
       "[100 rows x 8 columns]"
      ]
     },
     "execution_count": 3,
     "metadata": {},
     "output_type": "execute_result"
    }
   ],
   "source": [
    "data"
   ]
  },
  {
   "cell_type": "markdown",
   "id": "03a80d0f",
   "metadata": {},
   "source": [
    "##  Data Preprocessing"
   ]
  },
  {
   "cell_type": "markdown",
   "id": "c570256c",
   "metadata": {},
   "source": [
    "Shape and info provides the information about the number of observations and features."
   ]
  },
  {
   "cell_type": "code",
   "execution_count": 4,
   "id": "70715ff4",
   "metadata": {},
   "outputs": [
    {
     "data": {
      "text/plain": [
       "(100, 8)"
      ]
     },
     "execution_count": 4,
     "metadata": {},
     "output_type": "execute_result"
    }
   ],
   "source": [
    "data.shape"
   ]
  },
  {
   "cell_type": "code",
   "execution_count": 5,
   "id": "b8534326",
   "metadata": {
    "scrolled": true
   },
   "outputs": [
    {
     "name": "stdout",
     "output_type": "stream",
     "text": [
      "<class 'pandas.core.frame.DataFrame'>\n",
      "RangeIndex: 100 entries, 0 to 99\n",
      "Data columns (total 8 columns):\n",
      " #   Column           Non-Null Count  Dtype  \n",
      "---  ------           --------------  -----  \n",
      " 0   ItemID           100 non-null    int64  \n",
      " 1   ProductName      100 non-null    object \n",
      " 2   Category         100 non-null    object \n",
      " 3   Price            90 non-null     float64\n",
      " 4   Brand            100 non-null    object \n",
      " 5   Supplier         100 non-null    object \n",
      " 6   QuantityInStock  90 non-null     float64\n",
      " 7   ExpirationDate   100 non-null    object \n",
      "dtypes: float64(2), int64(1), object(5)\n",
      "memory usage: 6.4+ KB\n"
     ]
    }
   ],
   "source": [
    "data.info()"
   ]
  },
  {
   "cell_type": "markdown",
   "id": "1806e624",
   "metadata": {},
   "source": [
    "Count of unique values in each column"
   ]
  },
  {
   "cell_type": "code",
   "execution_count": 6,
   "id": "ba4175ff",
   "metadata": {},
   "outputs": [],
   "source": [
    "categorical_values =['Category','ProductName','Brand','Supplier']"
   ]
  },
  {
   "cell_type": "code",
   "execution_count": 7,
   "id": "bd3a9401",
   "metadata": {
    "scrolled": true
   },
   "outputs": [
    {
     "name": "stdout",
     "output_type": "stream",
     "text": [
      "Category\n",
      "Meat      30\n",
      "Dairy     26\n",
      "Bakery    25\n",
      "Fruits    19\n",
      "Name: count, dtype: int64\n",
      "******************************\n",
      "ProductName\n",
      "Cheese     15\n",
      "Butter     14\n",
      "Apples     11\n",
      "Bread      11\n",
      "Oranges    10\n",
      "Beef       10\n",
      "Milk        9\n",
      "Chicken     8\n",
      "Eggs        7\n",
      "Bananas     5\n",
      "Name: count, dtype: int64\n",
      "******************************\n",
      "Brand\n",
      "BrandA    22\n",
      "BrandE    22\n",
      "BrandB    21\n",
      "BrandD    18\n",
      "BrandC    17\n",
      "Name: count, dtype: int64\n",
      "******************************\n",
      "Supplier\n",
      "SupplierX    35\n",
      "SupplierY    35\n",
      "SupplierZ    30\n",
      "Name: count, dtype: int64\n",
      "******************************\n"
     ]
    }
   ],
   "source": [
    "for col in categorical_values:\n",
    "    print(data[col].value_counts())\n",
    "    print(\"*\"*30)"
   ]
  },
  {
   "cell_type": "markdown",
   "id": "c4a418c4",
   "metadata": {},
   "source": [
    "##  Standardize the necessary columns"
   ]
  },
  {
   "cell_type": "markdown",
   "id": "3b16946f",
   "metadata": {},
   "source": [
    "Converting the dtype of ExpirationDate to datetime"
   ]
  },
  {
   "cell_type": "code",
   "execution_count": 8,
   "id": "adafbcc3",
   "metadata": {},
   "outputs": [],
   "source": [
    "data['ExpirationDate'] = pd.to_datetime(data['ExpirationDate'])"
   ]
  },
  {
   "cell_type": "code",
   "execution_count": 9,
   "id": "04d6d490",
   "metadata": {},
   "outputs": [
    {
     "name": "stdout",
     "output_type": "stream",
     "text": [
      "0    2024-09-07\n",
      "1    2024-09-11\n",
      "2    2024-10-08\n",
      "3    2024-01-22\n",
      "4    2024-08-17\n",
      "        ...    \n",
      "95   2024-04-10\n",
      "96   2024-03-31\n",
      "97   2024-03-09\n",
      "98   2024-04-15\n",
      "99   2024-01-11\n",
      "Name: ExpirationDate, Length: 100, dtype: datetime64[ns]\n"
     ]
    }
   ],
   "source": [
    "print(data['ExpirationDate'])"
   ]
  },
  {
   "cell_type": "code",
   "execution_count": 10,
   "id": "6a10540d",
   "metadata": {},
   "outputs": [],
   "source": [
    "data['Brand'] = data['Brand'].apply(lambda x : x[-1])"
   ]
  },
  {
   "cell_type": "code",
   "execution_count": 11,
   "id": "158cde70",
   "metadata": {},
   "outputs": [
    {
     "data": {
      "text/plain": [
       "0     A\n",
       "1     D\n",
       "2     A\n",
       "3     C\n",
       "4     B\n",
       "     ..\n",
       "95    A\n",
       "96    D\n",
       "97    C\n",
       "98    B\n",
       "99    E\n",
       "Name: Brand, Length: 100, dtype: object"
      ]
     },
     "execution_count": 11,
     "metadata": {},
     "output_type": "execute_result"
    }
   ],
   "source": [
    "data['Brand']"
   ]
  },
  {
   "cell_type": "code",
   "execution_count": 12,
   "id": "7e4a2400",
   "metadata": {},
   "outputs": [],
   "source": [
    "data['Supplier'] = data['Supplier'].apply(lambda x : x[-1])"
   ]
  },
  {
   "cell_type": "code",
   "execution_count": 13,
   "id": "b7e1edb4",
   "metadata": {},
   "outputs": [
    {
     "data": {
      "text/plain": [
       "0     X\n",
       "1     X\n",
       "2     X\n",
       "3     X\n",
       "4     Z\n",
       "     ..\n",
       "95    Y\n",
       "96    Z\n",
       "97    Y\n",
       "98    Z\n",
       "99    Z\n",
       "Name: Supplier, Length: 100, dtype: object"
      ]
     },
     "execution_count": 13,
     "metadata": {},
     "output_type": "execute_result"
    }
   ],
   "source": [
    "data['Supplier']"
   ]
  },
  {
   "cell_type": "markdown",
   "id": "feaa5a8c",
   "metadata": {},
   "source": [
    "Checking for null values"
   ]
  },
  {
   "cell_type": "code",
   "execution_count": 14,
   "id": "0ea8181c",
   "metadata": {
    "scrolled": true
   },
   "outputs": [
    {
     "data": {
      "text/plain": [
       "ItemID              0\n",
       "ProductName         0\n",
       "Category            0\n",
       "Price              10\n",
       "Brand               0\n",
       "Supplier            0\n",
       "QuantityInStock    10\n",
       "ExpirationDate      0\n",
       "dtype: int64"
      ]
     },
     "execution_count": 14,
     "metadata": {},
     "output_type": "execute_result"
    }
   ],
   "source": [
    "data.isnull().sum()"
   ]
  },
  {
   "cell_type": "markdown",
   "id": "673b977c",
   "metadata": {},
   "source": [
    "Handling the missing values"
   ]
  },
  {
   "cell_type": "code",
   "execution_count": 15,
   "id": "407a0b4a",
   "metadata": {},
   "outputs": [
    {
     "data": {
      "image/png": "[encoded data removed]",
      "text/plain": [
       "<Figure size 864x432 with 1 Axes>"
      ]
     },
     "metadata": {
      "needs_background": "light"
     },
     "output_type": "display_data"
    }
   ],
   "source": [
    "plt.figure(figsize=(12, 6))\n",
    "\n",
    "# Plot for QuantityInStock\n",
    "plt.subplot(1, 2, 1)\n",
    "sns.histplot(data['QuantityInStock'], kde=True)\n",
    "plt.title('Histogram - QuantityInStock')\n",
    "plt.tight_layout()\n",
    "plt.show()\n"
   ]
  },
  {
   "cell_type": "code",
   "execution_count": 16,
   "id": "1a27f9d7",
   "metadata": {},
   "outputs": [
    {
     "data": {
      "image/png": "[encoded data removed]",
      "text/plain": [
       "<Figure size 864x432 with 1 Axes>"
      ]
     },
     "metadata": {
      "needs_background": "light"
     },
     "output_type": "display_data"
    }
   ],
   "source": [
    "plt.figure(figsize=(12, 6))\n",
    "# Plot for Price\n",
    "plt.subplot(1, 2, 2)\n",
    "sns.histplot(data['Price'], kde=True)\n",
    "plt.title('Histogram - Price')\n",
    "plt.tight_layout()\n",
    "plt.show()"
   ]
  },
  {
   "cell_type": "markdown",
   "id": "81c2232a",
   "metadata": {},
   "source": [
    "Replacing null values with mean in price column"
   ]
  },
  {
   "cell_type": "code",
   "execution_count": 17,
   "id": "aeb70110",
   "metadata": {},
   "outputs": [],
   "source": [
    "data['Price'].fillna(data['Price'].mean(), inplace=True)"
   ]
  },
  {
   "cell_type": "markdown",
   "id": "2b6e0335",
   "metadata": {},
   "source": [
    "Replacing null values with median in QuantityInStock column."
   ]
  },
  {
   "cell_type": "code",
   "execution_count": 18,
   "id": "30e43e7c",
   "metadata": {},
   "outputs": [],
   "source": [
    "data['QuantityInStock'].fillna(data['QuantityInStock'].median(), inplace=True)"
   ]
  },
  {
   "cell_type": "code",
   "execution_count": 19,
   "id": "ab98c266",
   "metadata": {},
   "outputs": [
    {
     "data": {
      "text/html": [
       "<div>\n",
       "<style scoped>\n",
       "    .dataframe tbody tr th:only-of-type {\n",
       "        vertical-align: middle;\n",
       "    }\n",
       "\n",
       "    .dataframe tbody tr th {\n",
       "        vertical-align: top;\n",
       "    }\n",
       "\n",
       "    .dataframe thead th {\n",
       "        text-align: right;\n",
       "    }\n",
       "</style>\n",
       "<table border=\"1\" class=\"dataframe\">\n",
       "  <thead>\n",
       "    <tr style=\"text-align: right;\">\n",
       "      <th></th>\n",
       "      <th>ItemID</th>\n",
       "      <th>ProductName</th>\n",
       "      <th>Category</th>\n",
       "      <th>Price</th>\n",
       "      <th>Brand</th>\n",
       "      <th>Supplier</th>\n",
       "      <th>QuantityInStock</th>\n",
       "      <th>ExpirationDate</th>\n",
       "    </tr>\n",
       "  </thead>\n",
       "  <tbody>\n",
       "    <tr>\n",
       "      <th>0</th>\n",
       "      <td>1</td>\n",
       "      <td>Apples</td>\n",
       "      <td>Dairy</td>\n",
       "      <td>12.390000</td>\n",
       "      <td>A</td>\n",
       "      <td>X</td>\n",
       "      <td>374.0</td>\n",
       "      <td>2024-09-07</td>\n",
       "    </tr>\n",
       "    <tr>\n",
       "      <th>1</th>\n",
       "      <td>2</td>\n",
       "      <td>Bread</td>\n",
       "      <td>Fruits</td>\n",
       "      <td>13.700000</td>\n",
       "      <td>D</td>\n",
       "      <td>X</td>\n",
       "      <td>22.0</td>\n",
       "      <td>2024-09-11</td>\n",
       "    </tr>\n",
       "    <tr>\n",
       "      <th>2</th>\n",
       "      <td>3</td>\n",
       "      <td>Cheese</td>\n",
       "      <td>Bakery</td>\n",
       "      <td>11.360000</td>\n",
       "      <td>A</td>\n",
       "      <td>X</td>\n",
       "      <td>460.0</td>\n",
       "      <td>2024-10-08</td>\n",
       "    </tr>\n",
       "    <tr>\n",
       "      <th>3</th>\n",
       "      <td>4</td>\n",
       "      <td>Cheese</td>\n",
       "      <td>Meat</td>\n",
       "      <td>10.651111</td>\n",
       "      <td>C</td>\n",
       "      <td>X</td>\n",
       "      <td>214.5</td>\n",
       "      <td>2024-01-22</td>\n",
       "    </tr>\n",
       "    <tr>\n",
       "      <th>4</th>\n",
       "      <td>5</td>\n",
       "      <td>Oranges</td>\n",
       "      <td>Meat</td>\n",
       "      <td>8.810000</td>\n",
       "      <td>B</td>\n",
       "      <td>Z</td>\n",
       "      <td>354.0</td>\n",
       "      <td>2024-08-17</td>\n",
       "    </tr>\n",
       "    <tr>\n",
       "      <th>5</th>\n",
       "      <td>6</td>\n",
       "      <td>Beef</td>\n",
       "      <td>Fruits</td>\n",
       "      <td>12.950000</td>\n",
       "      <td>A</td>\n",
       "      <td>Y</td>\n",
       "      <td>90.0</td>\n",
       "      <td>2024-06-02</td>\n",
       "    </tr>\n",
       "    <tr>\n",
       "      <th>6</th>\n",
       "      <td>7</td>\n",
       "      <td>Cheese</td>\n",
       "      <td>Dairy</td>\n",
       "      <td>10.290000</td>\n",
       "      <td>E</td>\n",
       "      <td>X</td>\n",
       "      <td>51.0</td>\n",
       "      <td>2024-04-29</td>\n",
       "    </tr>\n",
       "    <tr>\n",
       "      <th>7</th>\n",
       "      <td>8</td>\n",
       "      <td>Apples</td>\n",
       "      <td>Bakery</td>\n",
       "      <td>10.651111</td>\n",
       "      <td>A</td>\n",
       "      <td>Z</td>\n",
       "      <td>214.5</td>\n",
       "      <td>2024-06-14</td>\n",
       "    </tr>\n",
       "    <tr>\n",
       "      <th>8</th>\n",
       "      <td>9</td>\n",
       "      <td>Eggs</td>\n",
       "      <td>Fruits</td>\n",
       "      <td>14.750000</td>\n",
       "      <td>D</td>\n",
       "      <td>X</td>\n",
       "      <td>302.0</td>\n",
       "      <td>2024-07-17</td>\n",
       "    </tr>\n",
       "    <tr>\n",
       "      <th>9</th>\n",
       "      <td>10</td>\n",
       "      <td>Butter</td>\n",
       "      <td>Fruits</td>\n",
       "      <td>6.830000</td>\n",
       "      <td>E</td>\n",
       "      <td>Z</td>\n",
       "      <td>208.0</td>\n",
       "      <td>2024-12-12</td>\n",
       "    </tr>\n",
       "  </tbody>\n",
       "</table>\n",
       "</div>"
      ],
      "text/plain": [
       "   ItemID ProductName Category      Price Brand Supplier  QuantityInStock  \\\n",
       "0       1      Apples    Dairy  12.390000     A        X            374.0   \n",
       "1       2       Bread   Fruits  13.700000     D        X             22.0   \n",
       "2       3      Cheese   Bakery  11.360000     A        X            460.0   \n",
       "3       4      Cheese     Meat  10.651111     C        X            214.5   \n",
       "4       5     Oranges     Meat   8.810000     B        Z            354.0   \n",
       "5       6        Beef   Fruits  12.950000     A        Y             90.0   \n",
       "6       7      Cheese    Dairy  10.290000     E        X             51.0   \n",
       "7       8      Apples   Bakery  10.651111     A        Z            214.5   \n",
       "8       9        Eggs   Fruits  14.750000     D        X            302.0   \n",
       "9      10      Butter   Fruits   6.830000     E        Z            208.0   \n",
       "\n",
       "  ExpirationDate  \n",
       "0     2024-09-07  \n",
       "1     2024-09-11  \n",
       "2     2024-10-08  \n",
       "3     2024-01-22  \n",
       "4     2024-08-17  \n",
       "5     2024-06-02  \n",
       "6     2024-04-29  \n",
       "7     2024-06-14  \n",
       "8     2024-07-17  \n",
       "9     2024-12-12  "
      ]
     },
     "execution_count": 19,
     "metadata": {},
     "output_type": "execute_result"
    }
   ],
   "source": [
    "data.head(10)"
   ]
  },
  {
   "cell_type": "markdown",
   "id": "8d499e88",
   "metadata": {},
   "source": [
    "Rounding of price and QunatityInStock cloumns"
   ]
  },
  {
   "cell_type": "code",
   "execution_count": 20,
   "id": "31bc7100",
   "metadata": {},
   "outputs": [],
   "source": [
    "data['Price'] = data['Price'].round(2)"
   ]
  },
  {
   "cell_type": "code",
   "execution_count": 21,
   "id": "11295609",
   "metadata": {},
   "outputs": [],
   "source": [
    "data['QuantityInStock'] = data['QuantityInStock'].round(2)"
   ]
  },
  {
   "cell_type": "markdown",
   "id": "30f4809b",
   "metadata": {},
   "source": [
    "Creating a new column UrgentSale by using a thershold and current date."
   ]
  },
  {
   "cell_type": "code",
   "execution_count": 22,
   "id": "18a8b600",
   "metadata": {},
   "outputs": [],
   "source": [
    "data['CurrentDate'] = pd.to_datetime('today')"
   ]
  },
  {
   "cell_type": "code",
   "execution_count": 23,
   "id": "405ac62a",
   "metadata": {},
   "outputs": [],
   "source": [
    "# Set the threshold for urgent sale (e.g., 30 days)\n",
    "urgent_sale_threshold = timedelta(days=30)"
   ]
  },
  {
   "cell_type": "code",
   "execution_count": 24,
   "id": "5c043a45",
   "metadata": {},
   "outputs": [],
   "source": [
    "# Calculate the difference between expiration date and current date\n",
    "data['DaysUntilExpiration'] = (data['ExpirationDate'] - data['CurrentDate']).dt.days"
   ]
  },
  {
   "cell_type": "code",
   "execution_count": 25,
   "id": "d8da1d5f",
   "metadata": {},
   "outputs": [],
   "source": [
    "# Create a new column for urgency of sale (1 for urgent, 0 for not urgent)\n",
    "data['UrgentSale'] = (data['DaysUntilExpiration'] <= urgent_sale_threshold.days).astype(int)"
   ]
  },
  {
   "cell_type": "code",
   "execution_count": 26,
   "id": "957c0cd4",
   "metadata": {},
   "outputs": [
    {
     "data": {
      "text/html": [
       "<div>\n",
       "<style scoped>\n",
       "    .dataframe tbody tr th:only-of-type {\n",
       "        vertical-align: middle;\n",
       "    }\n",
       "\n",
       "    .dataframe tbody tr th {\n",
       "        vertical-align: top;\n",
       "    }\n",
       "\n",
       "    .dataframe thead th {\n",
       "        text-align: right;\n",
       "    }\n",
       "</style>\n",
       "<table border=\"1\" class=\"dataframe\">\n",
       "  <thead>\n",
       "    <tr style=\"text-align: right;\">\n",
       "      <th></th>\n",
       "      <th>ItemID</th>\n",
       "      <th>ProductName</th>\n",
       "      <th>Category</th>\n",
       "      <th>Price</th>\n",
       "      <th>Brand</th>\n",
       "      <th>Supplier</th>\n",
       "      <th>QuantityInStock</th>\n",
       "      <th>ExpirationDate</th>\n",
       "      <th>CurrentDate</th>\n",
       "      <th>DaysUntilExpiration</th>\n",
       "      <th>UrgentSale</th>\n",
       "    </tr>\n",
       "  </thead>\n",
       "  <tbody>\n",
       "    <tr>\n",
       "      <th>0</th>\n",
       "      <td>1</td>\n",
       "      <td>Apples</td>\n",
       "      <td>Dairy</td>\n",
       "      <td>12.39</td>\n",
       "      <td>A</td>\n",
       "      <td>X</td>\n",
       "      <td>374.0</td>\n",
       "      <td>2024-09-07</td>\n",
       "      <td>2023-12-28 20:02:10.008292</td>\n",
       "      <td>253</td>\n",
       "      <td>0</td>\n",
       "    </tr>\n",
       "    <tr>\n",
       "      <th>1</th>\n",
       "      <td>2</td>\n",
       "      <td>Bread</td>\n",
       "      <td>Fruits</td>\n",
       "      <td>13.70</td>\n",
       "      <td>D</td>\n",
       "      <td>X</td>\n",
       "      <td>22.0</td>\n",
       "      <td>2024-09-11</td>\n",
       "      <td>2023-12-28 20:02:10.008292</td>\n",
       "      <td>257</td>\n",
       "      <td>0</td>\n",
       "    </tr>\n",
       "    <tr>\n",
       "      <th>2</th>\n",
       "      <td>3</td>\n",
       "      <td>Cheese</td>\n",
       "      <td>Bakery</td>\n",
       "      <td>11.36</td>\n",
       "      <td>A</td>\n",
       "      <td>X</td>\n",
       "      <td>460.0</td>\n",
       "      <td>2024-10-08</td>\n",
       "      <td>2023-12-28 20:02:10.008292</td>\n",
       "      <td>284</td>\n",
       "      <td>0</td>\n",
       "    </tr>\n",
       "    <tr>\n",
       "      <th>3</th>\n",
       "      <td>4</td>\n",
       "      <td>Cheese</td>\n",
       "      <td>Meat</td>\n",
       "      <td>10.65</td>\n",
       "      <td>C</td>\n",
       "      <td>X</td>\n",
       "      <td>214.5</td>\n",
       "      <td>2024-01-22</td>\n",
       "      <td>2023-12-28 20:02:10.008292</td>\n",
       "      <td>24</td>\n",
       "      <td>1</td>\n",
       "    </tr>\n",
       "    <tr>\n",
       "      <th>4</th>\n",
       "      <td>5</td>\n",
       "      <td>Oranges</td>\n",
       "      <td>Meat</td>\n",
       "      <td>8.81</td>\n",
       "      <td>B</td>\n",
       "      <td>Z</td>\n",
       "      <td>354.0</td>\n",
       "      <td>2024-08-17</td>\n",
       "      <td>2023-12-28 20:02:10.008292</td>\n",
       "      <td>232</td>\n",
       "      <td>0</td>\n",
       "    </tr>\n",
       "    <tr>\n",
       "      <th>...</th>\n",
       "      <td>...</td>\n",
       "      <td>...</td>\n",
       "      <td>...</td>\n",
       "      <td>...</td>\n",
       "      <td>...</td>\n",
       "      <td>...</td>\n",
       "      <td>...</td>\n",
       "      <td>...</td>\n",
       "      <td>...</td>\n",
       "      <td>...</td>\n",
       "      <td>...</td>\n",
       "    </tr>\n",
       "    <tr>\n",
       "      <th>95</th>\n",
       "      <td>96</td>\n",
       "      <td>Bread</td>\n",
       "      <td>Dairy</td>\n",
       "      <td>5.74</td>\n",
       "      <td>A</td>\n",
       "      <td>Y</td>\n",
       "      <td>159.0</td>\n",
       "      <td>2024-04-10</td>\n",
       "      <td>2023-12-28 20:02:10.008292</td>\n",
       "      <td>103</td>\n",
       "      <td>0</td>\n",
       "    </tr>\n",
       "    <tr>\n",
       "      <th>96</th>\n",
       "      <td>97</td>\n",
       "      <td>Milk</td>\n",
       "      <td>Fruits</td>\n",
       "      <td>17.81</td>\n",
       "      <td>D</td>\n",
       "      <td>Z</td>\n",
       "      <td>81.0</td>\n",
       "      <td>2024-03-31</td>\n",
       "      <td>2023-12-28 20:02:10.008292</td>\n",
       "      <td>93</td>\n",
       "      <td>0</td>\n",
       "    </tr>\n",
       "    <tr>\n",
       "      <th>97</th>\n",
       "      <td>98</td>\n",
       "      <td>Eggs</td>\n",
       "      <td>Fruits</td>\n",
       "      <td>18.23</td>\n",
       "      <td>C</td>\n",
       "      <td>Y</td>\n",
       "      <td>35.0</td>\n",
       "      <td>2024-03-09</td>\n",
       "      <td>2023-12-28 20:02:10.008292</td>\n",
       "      <td>71</td>\n",
       "      <td>0</td>\n",
       "    </tr>\n",
       "    <tr>\n",
       "      <th>98</th>\n",
       "      <td>99</td>\n",
       "      <td>Butter</td>\n",
       "      <td>Meat</td>\n",
       "      <td>13.45</td>\n",
       "      <td>B</td>\n",
       "      <td>Z</td>\n",
       "      <td>237.0</td>\n",
       "      <td>2024-04-15</td>\n",
       "      <td>2023-12-28 20:02:10.008292</td>\n",
       "      <td>108</td>\n",
       "      <td>0</td>\n",
       "    </tr>\n",
       "    <tr>\n",
       "      <th>99</th>\n",
       "      <td>100</td>\n",
       "      <td>Eggs</td>\n",
       "      <td>Fruits</td>\n",
       "      <td>7.51</td>\n",
       "      <td>E</td>\n",
       "      <td>Z</td>\n",
       "      <td>243.0</td>\n",
       "      <td>2024-01-11</td>\n",
       "      <td>2023-12-28 20:02:10.008292</td>\n",
       "      <td>13</td>\n",
       "      <td>1</td>\n",
       "    </tr>\n",
       "  </tbody>\n",
       "</table>\n",
       "<p>100 rows × 11 columns</p>\n",
       "</div>"
      ],
      "text/plain": [
       "    ItemID ProductName Category  Price Brand Supplier  QuantityInStock  \\\n",
       "0        1      Apples    Dairy  12.39     A        X            374.0   \n",
       "1        2       Bread   Fruits  13.70     D        X             22.0   \n",
       "2        3      Cheese   Bakery  11.36     A        X            460.0   \n",
       "3        4      Cheese     Meat  10.65     C        X            214.5   \n",
       "4        5     Oranges     Meat   8.81     B        Z            354.0   \n",
       "..     ...         ...      ...    ...   ...      ...              ...   \n",
       "95      96       Bread    Dairy   5.74     A        Y            159.0   \n",
       "96      97        Milk   Fruits  17.81     D        Z             81.0   \n",
       "97      98        Eggs   Fruits  18.23     C        Y             35.0   \n",
       "98      99      Butter     Meat  13.45     B        Z            237.0   \n",
       "99     100        Eggs   Fruits   7.51     E        Z            243.0   \n",
       "\n",
       "   ExpirationDate                CurrentDate  DaysUntilExpiration  UrgentSale  \n",
       "0      2024-09-07 2023-12-28 20:02:10.008292                  253           0  \n",
       "1      2024-09-11 2023-12-28 20:02:10.008292                  257           0  \n",
       "2      2024-10-08 2023-12-28 20:02:10.008292                  284           0  \n",
       "3      2024-01-22 2023-12-28 20:02:10.008292                   24           1  \n",
       "4      2024-08-17 2023-12-28 20:02:10.008292                  232           0  \n",
       "..            ...                        ...                  ...         ...  \n",
       "95     2024-04-10 2023-12-28 20:02:10.008292                  103           0  \n",
       "96     2024-03-31 2023-12-28 20:02:10.008292                   93           0  \n",
       "97     2024-03-09 2023-12-28 20:02:10.008292                   71           0  \n",
       "98     2024-04-15 2023-12-28 20:02:10.008292                  108           0  \n",
       "99     2024-01-11 2023-12-28 20:02:10.008292                   13           1  \n",
       "\n",
       "[100 rows x 11 columns]"
      ]
     },
     "execution_count": 26,
     "metadata": {},
     "output_type": "execute_result"
    }
   ],
   "source": [
    "data"
   ]
  },
  {
   "cell_type": "code",
   "execution_count": 27,
   "id": "8cec76f6",
   "metadata": {},
   "outputs": [],
   "source": [
    "# Dropping the intermediate columns \n",
    "data.drop(['CurrentDate'], axis=1, inplace=True)"
   ]
  },
  {
   "cell_type": "markdown",
   "id": "a3db5f1a",
   "metadata": {},
   "source": [
    "Creating a new column TotalCost"
   ]
  },
  {
   "cell_type": "code",
   "execution_count": 28,
   "id": "c59f27ff",
   "metadata": {},
   "outputs": [],
   "source": [
    "data['TotalCost'] = (data['QuantityInStock'] * data['Price']).round(2)"
   ]
  },
  {
   "cell_type": "code",
   "execution_count": 29,
   "id": "d70d498f",
   "metadata": {},
   "outputs": [
    {
     "data": {
      "text/html": [
       "<div>\n",
       "<style scoped>\n",
       "    .dataframe tbody tr th:only-of-type {\n",
       "        vertical-align: middle;\n",
       "    }\n",
       "\n",
       "    .dataframe tbody tr th {\n",
       "        vertical-align: top;\n",
       "    }\n",
       "\n",
       "    .dataframe thead th {\n",
       "        text-align: right;\n",
       "    }\n",
       "</style>\n",
       "<table border=\"1\" class=\"dataframe\">\n",
       "  <thead>\n",
       "    <tr style=\"text-align: right;\">\n",
       "      <th></th>\n",
       "      <th>ItemID</th>\n",
       "      <th>ProductName</th>\n",
       "      <th>Category</th>\n",
       "      <th>Price</th>\n",
       "      <th>Brand</th>\n",
       "      <th>Supplier</th>\n",
       "      <th>QuantityInStock</th>\n",
       "      <th>ExpirationDate</th>\n",
       "      <th>DaysUntilExpiration</th>\n",
       "      <th>UrgentSale</th>\n",
       "      <th>TotalCost</th>\n",
       "    </tr>\n",
       "  </thead>\n",
       "  <tbody>\n",
       "    <tr>\n",
       "      <th>0</th>\n",
       "      <td>1</td>\n",
       "      <td>Apples</td>\n",
       "      <td>Dairy</td>\n",
       "      <td>12.39</td>\n",
       "      <td>A</td>\n",
       "      <td>X</td>\n",
       "      <td>374.0</td>\n",
       "      <td>2024-09-07</td>\n",
       "      <td>253</td>\n",
       "      <td>0</td>\n",
       "      <td>4633.86</td>\n",
       "    </tr>\n",
       "    <tr>\n",
       "      <th>1</th>\n",
       "      <td>2</td>\n",
       "      <td>Bread</td>\n",
       "      <td>Fruits</td>\n",
       "      <td>13.70</td>\n",
       "      <td>D</td>\n",
       "      <td>X</td>\n",
       "      <td>22.0</td>\n",
       "      <td>2024-09-11</td>\n",
       "      <td>257</td>\n",
       "      <td>0</td>\n",
       "      <td>301.40</td>\n",
       "    </tr>\n",
       "    <tr>\n",
       "      <th>2</th>\n",
       "      <td>3</td>\n",
       "      <td>Cheese</td>\n",
       "      <td>Bakery</td>\n",
       "      <td>11.36</td>\n",
       "      <td>A</td>\n",
       "      <td>X</td>\n",
       "      <td>460.0</td>\n",
       "      <td>2024-10-08</td>\n",
       "      <td>284</td>\n",
       "      <td>0</td>\n",
       "      <td>5225.60</td>\n",
       "    </tr>\n",
       "    <tr>\n",
       "      <th>3</th>\n",
       "      <td>4</td>\n",
       "      <td>Cheese</td>\n",
       "      <td>Meat</td>\n",
       "      <td>10.65</td>\n",
       "      <td>C</td>\n",
       "      <td>X</td>\n",
       "      <td>214.5</td>\n",
       "      <td>2024-01-22</td>\n",
       "      <td>24</td>\n",
       "      <td>1</td>\n",
       "      <td>2284.43</td>\n",
       "    </tr>\n",
       "    <tr>\n",
       "      <th>4</th>\n",
       "      <td>5</td>\n",
       "      <td>Oranges</td>\n",
       "      <td>Meat</td>\n",
       "      <td>8.81</td>\n",
       "      <td>B</td>\n",
       "      <td>Z</td>\n",
       "      <td>354.0</td>\n",
       "      <td>2024-08-17</td>\n",
       "      <td>232</td>\n",
       "      <td>0</td>\n",
       "      <td>3118.74</td>\n",
       "    </tr>\n",
       "    <tr>\n",
       "      <th>...</th>\n",
       "      <td>...</td>\n",
       "      <td>...</td>\n",
       "      <td>...</td>\n",
       "      <td>...</td>\n",
       "      <td>...</td>\n",
       "      <td>...</td>\n",
       "      <td>...</td>\n",
       "      <td>...</td>\n",
       "      <td>...</td>\n",
       "      <td>...</td>\n",
       "      <td>...</td>\n",
       "    </tr>\n",
       "    <tr>\n",
       "      <th>95</th>\n",
       "      <td>96</td>\n",
       "      <td>Bread</td>\n",
       "      <td>Dairy</td>\n",
       "      <td>5.74</td>\n",
       "      <td>A</td>\n",
       "      <td>Y</td>\n",
       "      <td>159.0</td>\n",
       "      <td>2024-04-10</td>\n",
       "      <td>103</td>\n",
       "      <td>0</td>\n",
       "      <td>912.66</td>\n",
       "    </tr>\n",
       "    <tr>\n",
       "      <th>96</th>\n",
       "      <td>97</td>\n",
       "      <td>Milk</td>\n",
       "      <td>Fruits</td>\n",
       "      <td>17.81</td>\n",
       "      <td>D</td>\n",
       "      <td>Z</td>\n",
       "      <td>81.0</td>\n",
       "      <td>2024-03-31</td>\n",
       "      <td>93</td>\n",
       "      <td>0</td>\n",
       "      <td>1442.61</td>\n",
       "    </tr>\n",
       "    <tr>\n",
       "      <th>97</th>\n",
       "      <td>98</td>\n",
       "      <td>Eggs</td>\n",
       "      <td>Fruits</td>\n",
       "      <td>18.23</td>\n",
       "      <td>C</td>\n",
       "      <td>Y</td>\n",
       "      <td>35.0</td>\n",
       "      <td>2024-03-09</td>\n",
       "      <td>71</td>\n",
       "      <td>0</td>\n",
       "      <td>638.05</td>\n",
       "    </tr>\n",
       "    <tr>\n",
       "      <th>98</th>\n",
       "      <td>99</td>\n",
       "      <td>Butter</td>\n",
       "      <td>Meat</td>\n",
       "      <td>13.45</td>\n",
       "      <td>B</td>\n",
       "      <td>Z</td>\n",
       "      <td>237.0</td>\n",
       "      <td>2024-04-15</td>\n",
       "      <td>108</td>\n",
       "      <td>0</td>\n",
       "      <td>3187.65</td>\n",
       "    </tr>\n",
       "    <tr>\n",
       "      <th>99</th>\n",
       "      <td>100</td>\n",
       "      <td>Eggs</td>\n",
       "      <td>Fruits</td>\n",
       "      <td>7.51</td>\n",
       "      <td>E</td>\n",
       "      <td>Z</td>\n",
       "      <td>243.0</td>\n",
       "      <td>2024-01-11</td>\n",
       "      <td>13</td>\n",
       "      <td>1</td>\n",
       "      <td>1824.93</td>\n",
       "    </tr>\n",
       "  </tbody>\n",
       "</table>\n",
       "<p>100 rows × 11 columns</p>\n",
       "</div>"
      ],
      "text/plain": [
       "    ItemID ProductName Category  Price Brand Supplier  QuantityInStock  \\\n",
       "0        1      Apples    Dairy  12.39     A        X            374.0   \n",
       "1        2       Bread   Fruits  13.70     D        X             22.0   \n",
       "2        3      Cheese   Bakery  11.36     A        X            460.0   \n",
       "3        4      Cheese     Meat  10.65     C        X            214.5   \n",
       "4        5     Oranges     Meat   8.81     B        Z            354.0   \n",
       "..     ...         ...      ...    ...   ...      ...              ...   \n",
       "95      96       Bread    Dairy   5.74     A        Y            159.0   \n",
       "96      97        Milk   Fruits  17.81     D        Z             81.0   \n",
       "97      98        Eggs   Fruits  18.23     C        Y             35.0   \n",
       "98      99      Butter     Meat  13.45     B        Z            237.0   \n",
       "99     100        Eggs   Fruits   7.51     E        Z            243.0   \n",
       "\n",
       "   ExpirationDate  DaysUntilExpiration  UrgentSale  TotalCost  \n",
       "0      2024-09-07                  253           0    4633.86  \n",
       "1      2024-09-11                  257           0     301.40  \n",
       "2      2024-10-08                  284           0    5225.60  \n",
       "3      2024-01-22                   24           1    2284.43  \n",
       "4      2024-08-17                  232           0    3118.74  \n",
       "..            ...                  ...         ...        ...  \n",
       "95     2024-04-10                  103           0     912.66  \n",
       "96     2024-03-31                   93           0    1442.61  \n",
       "97     2024-03-09                   71           0     638.05  \n",
       "98     2024-04-15                  108           0    3187.65  \n",
       "99     2024-01-11                   13           1    1824.93  \n",
       "\n",
       "[100 rows x 11 columns]"
      ]
     },
     "execution_count": 29,
     "metadata": {},
     "output_type": "execute_result"
    }
   ],
   "source": [
    "data"
   ]
  },
  {
   "cell_type": "markdown",
   "id": "153cb80b",
   "metadata": {},
   "source": [
    "## Data Visualization"
   ]
  },
  {
   "cell_type": "code",
   "execution_count": 30,
   "id": "0b4ce752",
   "metadata": {},
   "outputs": [
    {
     "data": {
      "image/png": "[encoded data removed]",
      "text/plain": [
       "<Figure size 432x288 with 1 Axes>"
      ]
     },
     "metadata": {
      "needs_background": "light"
     },
     "output_type": "display_data"
    }
   ],
   "source": [
    "#Distribution of Prices:\n",
    "sns.histplot(data['Price'], bins=20, kde=True)\n",
    "plt.title('Distribution of Prices')\n",
    "plt.xlabel('Price')\n",
    "plt.show()"
   ]
  },
  {
   "cell_type": "code",
   "execution_count": 31,
   "id": "346339f0",
   "metadata": {},
   "outputs": [
    {
     "name": "stdout",
     "output_type": "stream",
     "text": [
      "UrgentSale\n",
      "0    94\n",
      "1     6\n",
      "Name: count, dtype: int64\n"
     ]
    },
    {
     "data": {
      "image/png": "[encoded data removed]",
      "text/plain": [
       "<Figure size 432x288 with 1 Axes>"
      ]
     },
     "metadata": {
      "needs_background": "light"
     },
     "output_type": "display_data"
    }
   ],
   "source": [
    "# Urgency of Sale Distribution:\n",
    "print(data['UrgentSale'].value_counts())\n",
    "sns.countplot(x='UrgentSale', data=data)\n",
    "plt.title('Distribution of Urgency of Sale')\n",
    "plt.xlabel('Urgent Sale (1) vs. Not Urgent Sale (0)')\n",
    "plt.show()"
   ]
  },
  {
   "cell_type": "code",
   "execution_count": 32,
   "id": "4b9b9a1a",
   "metadata": {},
   "outputs": [
    {
     "data": {
      "image/png": "[encoded data removed]",
      "text/plain": [
       "<Figure size 432x288 with 1 Axes>"
      ]
     },
     "metadata": {
      "needs_background": "light"
     },
     "output_type": "display_data"
    }
   ],
   "source": [
    "#Total Cost Distribution:\n",
    "sns.histplot(data['TotalCost'], bins=20, kde=True)\n",
    "plt.title('Distribution of Total Costs')\n",
    "plt.xlabel('Total Cost')\n",
    "plt.show()"
   ]
  },
  {
   "cell_type": "code",
   "execution_count": 33,
   "id": "53378777",
   "metadata": {},
   "outputs": [
    {
     "data": {
      "image/png": "[encoded data removed]",
      "text/plain": [
       "<Figure size 432x288 with 1 Axes>"
      ]
     },
     "metadata": {
      "needs_background": "light"
     },
     "output_type": "display_data"
    }
   ],
   "source": [
    "#Boxplot for Total Cost by Category:\n",
    "sns.boxplot(x='Category', y='TotalCost', data=data)\n",
    "plt.title('Total Cost by Category')\n",
    "plt.xlabel('Category')\n",
    "plt.ylabel('Total Cost')\n",
    "plt.show()"
   ]
  },
  {
   "cell_type": "code",
   "execution_count": 35,
   "id": "bbee9af1",
   "metadata": {},
   "outputs": [
    {
     "data": {
      "image/png": "[encoded data removed]",
      "text/plain": [
       "<Figure size 432x288 with 1 Axes>"
      ]
     },
     "metadata": {
      "needs_background": "light"
     },
     "output_type": "display_data"
    }
   ],
   "source": [
    "#Scatter Plot for Quantity in Stock vs. Total Cost:\n",
    "# Use a color palette with different colors for Urgent and Not Urgent sales\n",
    "palette = {0: 'blue', 1: 'red'}\n",
    "\n",
    "sns.scatterplot(x='QuantityInStock', y='TotalCost', hue='UrgentSale', palette=palette, data=data, s=80, alpha=0.8)\n",
    "plt.title('Scatter Plot: Quantity in Stock vs. Total Cost')\n",
    "plt.xlabel('Quantity in Stock')\n",
    "plt.ylabel('Total Cost')\n",
    "plt.legend(title='Urgent Sale', loc='upper right')\n",
    "plt.show()"
   ]
  },
  {
   "cell_type": "code",
   "execution_count": 36,
   "id": "5f11ff3d",
   "metadata": {},
   "outputs": [],
   "source": [
    "data.to_csv('food_items_dataset.csv', index = False)"
   ]
  },
  {
   "cell_type": "code",
   "execution_count": null,
   "id": "527473fb",
   "metadata": {},
   "outputs": [],
   "source": []
  }
 ],
 "metadata": {
  "kernelspec": {
   "display_name": "Python 3 (ipykernel)",
   "language": "python",
   "name": "python3"
  },
  "language_info": {
   "codemirror_mode": {
    "name": "ipython",
    "version": 3
   },
   "file_extension": ".py",
   "mimetype": "text/x-python",
   "name": "python",
   "nbconvert_exporter": "python",
   "pygments_lexer": "ipython3",
   "version": "3.10.5"
  }
 },
 "nbformat": 4,
 "nbformat_minor": 5
}
