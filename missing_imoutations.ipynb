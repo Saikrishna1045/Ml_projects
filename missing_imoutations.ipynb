import numpy as np
from fancyimpute import IterativeImputer as MICE

# sample data frame
df = np.array([[1,2, np.nan], [3, np.nan, 7], [np.nan, 6,8]])

# initialize the MICE imputer
mice_imputer = MICE()

# perform the imputation 

X_imputed = mice_imputer.fit_transform(df)
